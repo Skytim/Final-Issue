{
 "cells": [
  {
   "cell_type": "code",
   "execution_count": 68,
   "metadata": {
    "collapsed": true
   },
   "outputs": [],
   "source": [
    "# 原始資料來源\n",
    "# http://147.8.142.179/datazip/\n",
    "import os, sys\n",
    "import pandas as pd\n",
    "import numpy as np\n",
    "import jieba\n",
    "import jieba.analyse\n",
    "import jieba.posseg as pseg\n",
    "# jieba 設定斷詞\n",
    "jieba.set_dictionary('jieba/dict.txt.big')\n",
    "# jieba 設定停止詞\n",
    "jieba.analyse.set_stop_words(\"jieba/stop_words.txt\")\n",
    "from pyspark import SparkContext\n",
    "from pyspark.mllib.feature import Word2Vec\n"
   ]
  },
  {
   "cell_type": "code",
   "execution_count": 84,
   "metadata": {
    "collapsed": false
   },
   "outputs": [
    {
     "name": "stderr",
     "output_type": "stream",
     "text": [
      "Building prefix dict from /Users/SkyTim/spark/jieba/dict.txt.big ...\n",
      "DEBUG:jieba:Building prefix dict from /Users/SkyTim/spark/jieba/dict.txt.big ...\n",
      "Dumping model to file cache /var/folders/w3/kbpct83955524gxmzln4r4vr0000gn/T/jieba.u5005e2b038b70f7b91dba6e0bb094401.cache\n",
      "DEBUG:jieba:Dumping model to file cache /var/folders/w3/kbpct83955524gxmzln4r4vr0000gn/T/jieba.u5005e2b038b70f7b91dba6e0bb094401.cache\n",
      "Loading model cost 9.541 seconds.\n",
      "DEBUG:jieba:Loading model cost 9.541 seconds.\n",
      "Prefix dict has been built succesfully.\n",
      "DEBUG:jieba:Prefix dict has been built succesfully.\n"
     ]
    }
   ],
   "source": [
    "# 啟動 jieba分散式\n",
    "jieba.enable_parallel(4)"
   ]
  },
  {
   "cell_type": "code",
   "execution_count": 105,
   "metadata": {
    "collapsed": true
   },
   "outputs": [],
   "source": [
    "# 斷詞並且將字詞為名詞的字詞找出來\n",
    "def intest(T):\n",
    "    psegCut=pseg.cut(T)\n",
    "    words=[ ]\n",
    "    for word ,flag in psegCut:\n",
    "        if(flag==\"n\"):\n",
    "            words.append(word)\n",
    "    return \"/\".join(words)"
   ]
  },
  {
   "cell_type": "code",
   "execution_count": 106,
   "metadata": {
    "collapsed": true
   },
   "outputs": [],
   "source": [
    "# 去除掉空白\n",
    "def nottest(T):\n",
    "    if(T!=''):\n",
    "        return T.split(\"/\")"
   ]
  },
  {
   "cell_type": "code",
   "execution_count": 107,
   "metadata": {
    "collapsed": true
   },
   "outputs": [],
   "source": [
    "# 去除None\n",
    "def noneTest(T):\n",
    "    if(T!=None):\n",
    "        return T"
   ]
  },
  {
   "cell_type": "code",
   "execution_count": 116,
   "metadata": {
    "collapsed": false
   },
   "outputs": [],
   "source": [
    "# 搜集資料 過濾掉字詞小於 8 欄位在第6\n",
    "documents = sc.textFile(\"data/week1.csv\").map(lambda line:line.split(\",\")).filter(lambda x:len(x)>8 ).map(lambda t:t[6]).map(lambda words:intest(words)).map(lambda row: nottest(row)).filter(lambda ct:not ct==None  )"
   ]
  },
  {
   "cell_type": "code",
   "execution_count": 133,
   "metadata": {
    "collapsed": false
   },
   "outputs": [
    {
     "name": "stdout",
     "output_type": "stream",
     "text": [
      "[u'\\u535a']\n",
      "[u'\\u5168\\u90fd']\n",
      "[u'\\u535a']\n",
      "[u'\\u4eba']\n",
      "[u'\\u5927\\u5bb6']\n",
      "[u'\\u8863\\u670d']\n",
      "[u'\\u9738\\u6c14', u'\\u9738\\u6c14']\n",
      "[u'\\u6837\\u5b50', u'\\u4efb\\u52a1', u'\\u6b4c\\u624b', u'\\u8bb2\\u8bdd', u'\\u5706\\u573a', u'\\u8ff7\\u5bab', u'\\u78c1\\u77f3', u'\\u773c\\u795e', u'\\u4f20\\u60c5']\n",
      "[u'\\u5fc3', u'\\u5fc3', u'\\u5fc3']\n",
      "[u'\\u82b1\\u5fc3', u'\\u82b1\\u5fc3', u'\\u535a']\n"
     ]
    }
   ],
   "source": [
    "# 格式為\n",
    "for word in documents.take(10):\n",
    "    print word"
   ]
  },
  {
   "cell_type": "code",
   "execution_count": 123,
   "metadata": {
    "collapsed": false
   },
   "outputs": [],
   "source": [
    "# train model\n",
    "word2vec = Word2Vec()\n",
    "model = word2vec.fit(documents)\n"
   ]
  },
  {
   "cell_type": "code",
   "execution_count": 127,
   "metadata": {
    "collapsed": false
   },
   "outputs": [],
   "source": [
    "# 找出與股市相關的20個字詞\n",
    "synonyms = model.findSynonyms('股市', 20)"
   ]
  },
  {
   "cell_type": "code",
   "execution_count": 135,
   "metadata": {
    "collapsed": false
   },
   "outputs": [
    {
     "name": "stdout",
     "output_type": "stream",
     "text": [
      "A股, heavy is 1.98845765004\n",
      "全球股市, heavy is 1.96794519601\n",
      "股票, heavy is 1.93961700215\n",
      "交易日, heavy is 1.91831716695\n",
      "投资者, heavy is 1.90264466867\n",
      "美国股市, heavy is 1.80945048204\n",
      "晴雨表, heavy is 1.78571162065\n",
      "高点, heavy is 1.7813645395\n",
      "股民, heavy is 1.77996181412\n",
      "走势, heavy is 1.77038924681\n",
      "低点, heavy is 1.76461427364\n",
      "证券, heavy is 1.76020417001\n",
      "圈钱, heavy is 1.7449535243\n",
      "股指, heavy is 1.74150508436\n",
      "午盘, heavy is 1.74110680524\n",
      "涨, heavy is 1.73896247939\n",
      "新股, heavy is 1.72332987906\n",
      "金融股, heavy is 1.70558093187\n",
      "散户, heavy is 1.7014143669\n",
      "跌势, heavy is 1.7002939989\n"
     ]
    }
   ],
   "source": [
    "# 與'股市'相關的字詞列印出來\n",
    "for word, cosine_distance in synonyms:\n",
    "    print word+\", heavy is \"+str(cosine_distance)\n"
   ]
  },
  {
   "cell_type": "code",
   "execution_count": 137,
   "metadata": {
    "collapsed": false
   },
   "outputs": [],
   "source": [
    "# 將model存起來\n",
    "model.save(sc,\"model\")"
   ]
  },
  {
   "cell_type": "code",
   "execution_count": null,
   "metadata": {
    "collapsed": true
   },
   "outputs": [],
   "source": []
  }
 ],
 "metadata": {
  "kernelspec": {
   "display_name": "Python 2",
   "language": "python",
   "name": "python2"
  },
  "language_info": {
   "codemirror_mode": {
    "name": "ipython",
    "version": 2
   },
   "file_extension": ".py",
   "mimetype": "text/x-python",
   "name": "python",
   "nbconvert_exporter": "python",
   "pygments_lexer": "ipython2",
   "version": "2.7.10"
  }
 },
 "nbformat": 4,
 "nbformat_minor": 0
}
